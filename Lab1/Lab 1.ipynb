{
 "cells": [
  {
   "cell_type": "markdown",
   "metadata": {},
   "source": [
    "# Lab 1\n",
    "\n",
    "### Daniel Kim"
   ]
  },
  {
   "cell_type": "code",
   "execution_count": 1,
   "metadata": {},
   "outputs": [],
   "source": [
    "# importing arcpy files\n",
    "import sys\n",
    "sys.path.append('C:\\\\Program Files (x86)\\\\ArcGIS\\\\Desktop10.5\\\\bin')\n",
    "sys.path.append('C:\\\\Program Files (x86)\\\\ArcGIS\\\\Desktop10.5\\\\arcpy')\n",
    "sys.path.append('C:\\\\Program Files (x86)\\\\ArcGIS\\\\Desktop10.5\\\\ArcToolbox\\\\Scripts')\n",
    "import arcpy\n",
    "arcpy.env.overwriteOutput = True\n",
    "\n",
    "# set up geojson environment variables \n",
    "from subprocess import call\n",
    "import os\n",
    "os.environ[\"GDAL_DATA\"] = \"C:\\\\OSGeo4W\\\\share\\\\gdal\"\n",
    "os.environ[\"GDAL_DRIVER_PATH\"] = \"C:\\\\OSGeo4W\\\\bin\\\\gdalplugins\"\n",
    "os.environ[\"PROJ_LIB\"] = \"C:\\\\OSGeo4W\\\\share\\\\proj\"\n",
    "os.environ[\"PATH\"] = \"C:\\\\OSGeo4W\\\\bin;\"+os.environ[\"PATH\"]+\";C:\\\\OSGeo4W\\\\apps\\\\msys\\\\bin;C:\\\\OSGeo4W\\\\apps\\\\Python27\\\\Scripts\"\n",
    "\n",
    "\n",
    "# setting up workspace\n",
    "arcpy.env.workspace = \"H:/GEOG458\"\n",
    "\n",
    "# Setting up feature class \n",
    "census = \"saep_bg10/saep_bg10.shp\"\n",
    "census1 = \"saep_bg10copy.shp\"\n",
    "table = \"WashingtonFIPS.dbf\""
   ]
  },
  {
   "cell_type": "code",
   "execution_count": 2,
   "metadata": {
    "scrolled": false
   },
   "outputs": [
    {
     "data": {
      "text/plain": [
       "<Result 'H:/GEOG458\\\\saep_bg10copy.shp'>"
      ]
     },
     "execution_count": 2,
     "metadata": {},
     "output_type": "execute_result"
    }
   ],
   "source": [
    "# Made a copy of the census feature class and copied features into copied shapefile\n",
    "arcpy.management.CopyFeatures(census, census1)"
   ]
  },
  {
   "cell_type": "markdown",
   "metadata": {},
   "source": [
    "#### Problem 1: For each county in Washington, create a GeoJSON file whose filename is the county name and whose contents are the polygons for the block groups within that county. \n",
    "\n",
    "#### This means that you will end up with as many GeoJSON files as there are counties in WA. Each such file should be named after a county and contain only the block groups from that county."
   ]
  },
  {
   "cell_type": "markdown",
   "metadata": {},
   "source": [
    "Add a field to the census data that will represent the county name corresponding to each row"
   ]
  },
  {
   "cell_type": "code",
   "execution_count": 3,
   "metadata": {
    "scrolled": true
   },
   "outputs": [],
   "source": [
    "# add field called CountyName in census block feature class\n",
    "arcpy.management.AddField(census1, \"CountyName\", \"STRING\")\n",
    "\n",
    "# create cursor to update new field\n",
    "cursor = arcpy.da.UpdateCursor(census1, [\"COUNTYFP10\", \"CountyName\"])\n",
    "\n",
    "# creating cursor to search through table to patch county id to census block feature class\n",
    "cursor1 = arcpy.da.SearchCursor(table, [\"FIPSCounty\", \"CountyName\"])\n",
    "\n",
    "# updates and adds county name from table to feature class\n",
    "for row in cursor:\n",
    "    for row1 in cursor1:\n",
    "        if (row[0] == row1[0]):\n",
    "            row[1] = row1[1]\n",
    "    cursor1.reset()\n",
    "    cursor.updateRow(row)\n",
    "    \n",
    "# delete cursors\n",
    "del cursor\n",
    "del cursor1"
   ]
  },
  {
   "cell_type": "markdown",
   "metadata": {},
   "source": [
    "Create a list of county names"
   ]
  },
  {
   "cell_type": "code",
   "execution_count": 4,
   "metadata": {
    "scrolled": true
   },
   "outputs": [],
   "source": [
    "# create a search cursor from table\n",
    "cursor = arcpy.da.SearchCursor(table, [\"CountyName\"])\n",
    "\n",
    "# define a list\n",
    "name_list = []\n",
    "\n",
    "# insert coutny names into list\n",
    "for row in cursor:\n",
    "    name_list.append(row[0])\n",
    "    \n",
    "# delete cursor\n",
    "del cursor"
   ]
  },
  {
   "cell_type": "markdown",
   "metadata": {},
   "source": [
    "Convert census block feature class into separate feature classes representing each county in WA"
   ]
  },
  {
   "cell_type": "code",
   "execution_count": 5,
   "metadata": {},
   "outputs": [],
   "source": [
    "# performs feature class to feature class conversion on all the different county names based on census block feature class\n",
    "for name in name_list:\n",
    "    arcpy.FeatureClassToFeatureClass_conversion(census1, \n",
    "                                                \"H:/GEOG458/featureclasses/\",\n",
    "                                               name,\n",
    "                                               '\"CountyName\" = ' + \"'%s'\" %name)"
   ]
  },
  {
   "cell_type": "markdown",
   "metadata": {},
   "source": [
    "Convert shapefiles to geojson files"
   ]
  },
  {
   "cell_type": "code",
   "execution_count": 6,
   "metadata": {
    "scrolled": true
   },
   "outputs": [],
   "source": [
    "# loops through, searching for each shapefile of the county names and convert them to geojson format\n",
    "for name in name_list:\n",
    "    call(['C:\\\\OSGeo4W\\\\bin\\\\ogr2ogr', \n",
    "          '-f','GeoJSON','-t_srs','WGS84', \n",
    "          '-s_srs','EPSG:2927', \n",
    "          'H:/GEOG458/geojson_results/' + name + '.geojson', \n",
    "          'H:/GEOG458/featureclasses/' + name + '.shp'])"
   ]
  },
  {
   "cell_type": "markdown",
   "metadata": {},
   "source": [
    "#### Print out a ranked list, in descending order, of the ten largest total populations in 2017 of counties in Washington, according to this dataset."
   ]
  },
  {
   "cell_type": "code",
   "execution_count": 7,
   "metadata": {
    "scrolled": false
   },
   "outputs": [
    {
     "name": "stdout",
     "output_type": "stream",
     "text": [
      "[19870.0, 22290.0, 193499.99999999997, 76829.99999999999, 74240.00000000001, 470999.9999999994, 4100.0, 105900.00000000001, 41420.0, 7740.0, 90330.00000000003, 2200.0, 95630.0, 72970.0, 82790.0, 31360.0, 2153700.0, 264300.00000000006, 44730.0, 21660.0, 77440.00000000003, 10700.0, 63190.00000000001, 42110.00000000001, 21249.999999999996, 13370.0, 859400.0000000003, 16510.0, 124100.00000000001, 11690.0, 789400.0000000005, 499800.0, 44510.0, 276899.9999999999, 4030.0, 61399.999999999985, 216300.00000000003, 48639.99999999999, 253000.0]\n"
     ]
    }
   ],
   "source": [
    "# Create search cursor to add 2017 population per county\n",
    "cursor = arcpy.da.SearchCursor(census1, [\"CountyName\", \"POP2017\"])\n",
    "\n",
    "# Initialize a dictionary\n",
    "popsum_list = []\n",
    "\n",
    "# Fill dicionary with sum of population with each county \n",
    "for name in name_list:\n",
    "    sum = 0\n",
    "    for row in cursor:\n",
    "        if (row[0] == name):\n",
    "            sum +=row[1]\n",
    "    popsum_list.append(sum)\n",
    "    cursor.reset()\n",
    "\n",
    "# print to check if popsum_list is correct\n",
    "print popsum_list"
   ]
  },
  {
   "cell_type": "code",
   "execution_count": 8,
   "metadata": {},
   "outputs": [
    {
     "name": "stdout",
     "output_type": "stream",
     "text": [
      "Population: 193500.0 County: Benton\n",
      "Population: 216300.0 County: Whatcom\n",
      "Population: 253000.0 County: Yakima\n",
      "Population: 264300.0 County: Kitsap\n",
      "Population: 276900.0 County: Thurston\n",
      "Population: 471000.0 County: Clark\n",
      "Population: 499800.0 County: Spokane\n",
      "Population: 789400.0 County: Snohomish\n",
      "Population: 859400.0 County: Pierce\n",
      "Population: 2153700.0 County: King\n"
     ]
    }
   ],
   "source": [
    "# initialize and associate key and pairs of population and county names\n",
    "County_pop17 = dict(zip(popsum_list, name_list))\n",
    "\n",
    "# initialize a dictionary to hold top ten greatest populations and county names\n",
    "top10 = {}\n",
    "\n",
    "# extract top 10 counties with most population and place in new dictionary\n",
    "for key in sorted(County_pop17, reverse=True)[:10]:\n",
    "    top10[key] = County_pop17[key]\n",
    "\n",
    "# prints from lowest to highest of the top 10 most populated counties in 2017\n",
    "for key in sorted(top10):\n",
    "    print \"Population: \" + str(key) + \" County: \" + top10[key]"
   ]
  },
  {
   "cell_type": "markdown",
   "metadata": {},
   "source": [
    "The approach I took initially was to follow along with the last class assignment with setting up my environment and writing variables to the feature classes. I mostly imagnied how I would go about solving the problems on Arcmap. Although that did help with starting, I soon realized that it wasn't that simple. This was a challenging first lab but I feel that I have learned a lot and I am appreciative of the challenge provided through the assignment. Also without the help of Professor Bergmann, I believe that I would not have been able to finish the assignment this quickly.\n",
    "\n",
    "Overall this assignment took three days to complete and a total of 18 hours to complete. I could have finished it much sooner but due to my lack of experience with coding in python, I experienced a lot of hardship with troubleshooting."
   ]
  }
 ],
 "metadata": {
  "kernelspec": {
   "display_name": "Python 2",
   "language": "python",
   "name": "python2"
  },
  "language_info": {
   "codemirror_mode": {
    "name": "ipython",
    "version": 2
   },
   "file_extension": ".py",
   "mimetype": "text/x-python",
   "name": "python",
   "nbconvert_exporter": "python",
   "pygments_lexer": "ipython2",
   "version": "2.7.14"
  }
 },
 "nbformat": 4,
 "nbformat_minor": 2
}
